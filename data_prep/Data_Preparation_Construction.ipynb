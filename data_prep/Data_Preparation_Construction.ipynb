{
 "cells": [
  {
   "cell_type": "markdown",
   "id": "8e6e7c88",
   "metadata": {},
   "source": [
    "# Global Drug Trafficking Networks: Data Preparation"
   ]
  },
  {
   "cell_type": "markdown",
   "id": "d58a857d",
   "metadata": {},
   "source": [
    "## Author: Matei Gabriel Cosa\n",
    "\n",
    "## Supervisors: prof. Daniele Durante, prof. Omiros Papaspiliopoulos\n",
    "\n",
    "### Bocconi University & Bocconi Institute for Data Science and Analytics (BIDSA)"
   ]
  },
  {
   "cell_type": "markdown",
   "id": "223c4a8e",
   "metadata": {},
   "source": [
    "## 1. Introduction"
   ]
  },
  {
   "cell_type": "markdown",
   "id": "4097958d",
   "metadata": {},
   "source": [
    "Transnational drug trafficking is a complex and ever-changing phenomenon that is responsible for billions of illicit dollars and, unfortunately, countless lives. Understanding the flows of drugs, the construction of routes, and the roles of different countries requires a rigorous mathematical and computational approach. Applying network-scientific methods and deep learning appears to hold great potential. But to be able to conduct such an analysis, one must first obtain the necessary data and create the appropriate infrastructure for the construction of the network. This is precisely the purpose of this notebook."
   ]
  },
  {
   "cell_type": "markdown",
   "id": "479c77a5",
   "metadata": {},
   "source": [
    "## 2. Methodology"
   ]
  },
  {
   "cell_type": "markdown",
   "id": "37a485da",
   "metadata": {},
   "source": [
    "### 2.1. Relevant literature "
   ]
  },
  {
   "cell_type": "markdown",
   "id": "e724c3cb",
   "metadata": {},
   "source": [
    "The main point of reference is Giommoni, L., Berlusconi, G. & Aziani, A. Interdicting International Drug Trafficking: a Network Approach for Coordinated and Targeted Interventions. Eur J Crim Policy Res 28, 545–572 (2022). https://doi.org/10.1007/s10610-020-09473-0. In this paper, the methodology for constructing cocaine and heroin networks is described in detail. We will follow a similar approach.\n",
    "\n",
    "Additionaly, UNODC reports are used for certain technical adjustments, such as drug conversion rates for different measurement units and purities. The two most important sources are:\n",
    "- UNODC. (2010). Methodology–World drug report 2010. Vienna: UNODC https://www.unodc. org/documents/data-and-analysis/WDR2010/WDR2010methodology.pdf\n",
    "- UNODC. (2019b). World drug report 2019 methodology report. Vienna: United Nations Office on Drugs and Crime https://wdr.unodc.org/wdr2019/prelaunch/WDR-2019-Methodology-FINAL.pdf"
   ]
  },
  {
   "cell_type": "markdown",
   "id": "939eb1a7",
   "metadata": {},
   "source": [
    "### 2.2. Data sources"
   ]
  },
  {
   "cell_type": "markdown",
   "id": "bfc223f4",
   "metadata": {},
   "source": [
    "We will be using several different datasets:\n",
    "\n",
    "1. **World population by country for ages 15-64**: UNDESA \"Population by 5-year age groups and sex\";\n",
    "    - accessed through the API, details available at: https://population.un.org/dataportal/about/dataapi\n",
    "    \n",
    "    \n",
    "2. **Drug prevalence by country**: UNODC \"Prevalence of drug use in the general population - national data\";\n",
    "    - accessed in .xlsx format from: https://wdr.unodc.org/wdr2019/en/maps-and-tables.html\n",
    "    \n",
    "    \n",
    "3. **Average drug purity by country**: UNODC \"Prices and Purities of Drugs\";\n",
    "    - accessed in .xlsx format from: https://www.unodc.org/unodc/en/data-and-analysis/wdr2022_annex.html\n",
    "    \n",
    "    \n",
    "4. **Drug seizures**: UNODC \"Individual Drug Seizures\" (IDS);\n",
    "    - accessed in .xlsx format from: https://dmp.unodc.org/\n",
    "    - IMPORTANT: currently, the data published on the UNODC website are incomplete, because they do not contain           information about routes. The version od the dataset used for this study was kindly provided by prof. Luca             Giommoni from Cardiff University.\n",
    "\n",
    "5. **Drug prices**: UNODC \"Durg Prices\"\n",
    "    - accessed in .xlsx format from: https://dataunodc.un.org/dp-drug-prices\n",
    "    - we considered drug prices in USD/kg at wholesale level\n",
    "\n",
    "6. **GDP/capita**: The World Bank \"GDP per capita (current US$)\"\n",
    "    - accessed in .xlsx format from: https://data.worldbank.org/indicator/NY.GDP.PCAP.CD\n",
    "\n",
    "7. **Geographic coordinates**: Kaggle \"Countries geographic ccoordinates\"\n",
    "    - accessed in .csv format from: https://www.kaggle.com/datasets/eidanch/counties-geographic-coordinates\n",
    "\n",
    "8. **Governance indicators**: The World Bank \"The Worldwide Governance Indicators (WGI)\"\n",
    "    - accessed in .xlsx format from: https://www.worldbank.org/en/publication/worldwide-governance-indicators\n",
    "    "
   ]
  },
  {
   "cell_type": "markdown",
   "id": "46895a2d",
   "metadata": {},
   "source": [
    "### 2.3. Network construction"
   ]
  },
  {
   "cell_type": "markdown",
   "id": "673fc37b",
   "metadata": {},
   "source": [
    "We are interested in builduing networks of type $N_{d, t}=(I_{d,t}, F_{d,t})$, where $I_{d,t}=\\{i_{d,t,1}, i_{d,t,2}, \\dots ,i_{d,t,n}\\}$ is the set of nodes and $F_{d,t}=\\{(j, k)\\}$ is the set of weighted edges. Such network $N_{d, t}$ is representative of the drug $d$ in the year $t$. To build such a network, several steps are required:\n",
    "1. **Identifying the connections**: this is done using data from the *IDS dataset*. Information about *COUNTRY_OF_SEIZURE*, *DEPARTURE_COUNTRY*, and *DESTINATION_COUNTRY* yields pairs of connections, i.e. directed edges.\n",
    "\n",
    "\n",
    "2. **Computing relative weights of the connections**: this is done using data from the *IDS dataset*. Total flows along each connections are adjusted by the average purity at wholesale level in the *COUNTRY_OF_SEIZURE*. The relevance of each edge is computed as:\n",
    "\n",
    "$$\n",
    "F_{d,t,j\\leftarrow k}=\\frac{S_{d,t,j\\leftarrow k}}{\\sum_{k=1}^{K} S_{d,t,j\\leftarrow k}}\n",
    "$$\n",
    "\n",
    "where $S_{d,t,j\\leftarrow k}$ is the total quantity of drug $d$ seized in year $t$ that was imported by country $j$ from country $k$.\n",
    "\n",
    "3. **Estimating the total purity-adjusted quantity of drugs seized and consumed in each country**: this is done using data from all four datasets. Firstly, data on the average national purity of each drug is collected: $pu_{d,t,i}$ represents the average purity of drug $d$, at time $t$, in country $i$. Later, data on the average national prevalence of each drug is collected: $pr_{d,t,i}$ represents the average purity of drug $d$, at time $t$, in country $i$. Then, population data for each country for the age category 15-64 is gathered: $Pop_{t,i}$ represents the total population for the age group at time $t$ and in country $i$. Afterwards, average global consumption per user of drug $d$ at time $t$, $c_{d,t}$ is estimated by dividing the total amount of drug $d$ produced at time $t$ by the total number of users. Additionally, total quantity of drug $d$ seized at time $t$ in country $i$, $S_{d,t,i}$, is computed. This information is later used for estimating the total market for drug $d$ at time $t$ in country $i$, $M_{d,t,i}$ by combining together consumption and seizures:\n",
    "\n",
    "$$\n",
    "M_{d,t,i}=C_{d,t,i}^{adj}+S_{d,t,i}^{adj} \\\\\n",
    "C_{d,t,i}^{adj}=pr_{d,t,i} \\cdot Pop_{t,i} \\cdot c_{d,t} \\\\\n",
    "S_{d,t,i}^{adj}=S_{d,t,i} \\cdot pu_{d,t,i}\n",
    "$$\n",
    "\n",
    "4. **Estimating import and export flows**: this is done by combining all the previous data. The idea is that total imports must satisfy the internal market (i.e, consumption & seizures), as well as exports. Imports $I_{d,t,i\\leftarrow k}$ and exports $E_{d,t,i\\rightarrow l}$ are computed by solving the system:\n",
    "\n",
    "$$\n",
    "\\begin{cases} \n",
    "\\sum_{k=1}^{K} I_{d,t,i\\leftarrow k} = C_{d,t,i}^{adj}+S_{d,t,i}^{adj} + \\sum_{l=1}^{L} E_{d,t,i\\rightarrow l} \\\\ \n",
    "\\sum_{l=1}^{L} E_{d,t,i\\rightarrow l} = \\sum_{l=1}^{L} I_{d,t,l\\leftarrow i}\n",
    "\\end{cases}\n",
    "$$"
   ]
  },
  {
   "cell_type": "markdown",
   "id": "b42b6d9c",
   "metadata": {},
   "source": [
    "### 2.4. Implementation details"
   ]
  },
  {
   "cell_type": "markdown",
   "id": "687e2cd0",
   "metadata": {},
   "source": [
    "In what follows we shall use the theoretical guidelines of *Giommoni, Berlusconi & Aziani* to as large as an extent as possible without having access to their code. This being said, there are several implementaion choices that we made in order to better suit our goals:\n",
    "1. **Separate modules**: to keep this notebook clean and readable, we opted for creating separate Python modules to tackle specifc parts that required extensive code.\n",
    "2. **Drug types**: although the original paper focuses on cocaine on heroin, we attempt to include other drugs, such as cannabis, amphetamine, and ecstasy. We included derivative versions of these drugs to work with more data and paint a brader picture. Our choices might not be entirely scientifically-accurate (e.g., combining amphetamine and methamphetamine). This being said, the purpose of this study is mainly mathematical and computational, therefore we believe our effort in following specific methods present in the literature should be satisfactory.\n",
    "3. **File types**: for convenience, most of the data used and obtained through our processing is stored in *.xlsx* format. \n",
    "4. **Period**: we will look at data from 2006 to 2017."
   ]
  },
  {
   "cell_type": "markdown",
   "id": "6a2b1bb8",
   "metadata": {},
   "source": [
    "### 2.5. Preliminaries"
   ]
  },
  {
   "cell_type": "markdown",
   "id": "48145d42",
   "metadata": {},
   "source": [
    "For convenience, we shall import useful packages and prepare data that will be useful later on, before jumping into the other steps. An important element consists of obtaining the list of countries present in the *IDS* dataset, so that we can make sure that we collect data (purity, prevalence, etc.) for all countries."
   ]
  },
  {
   "cell_type": "code",
   "execution_count": 11,
   "id": "abbc9b88",
   "metadata": {},
   "outputs": [],
   "source": [
    "import warnings\n",
    "warnings.filterwarnings('ignore')"
   ]
  },
  {
   "cell_type": "code",
   "execution_count": 7,
   "id": "6b2aa0e5",
   "metadata": {},
   "outputs": [],
   "source": [
    "# Import useful packages\n",
    "import numpy as np\n",
    "import pandas as pd\n",
    "import networkx as nx\n",
    "\n",
    "# Import the our modules\n",
    "import Population\n",
    "import Prevalence\n",
    "import Purity\n",
    "import Seizures\n",
    "import Aggregation\n",
    "import Features"
   ]
  },
  {
   "cell_type": "code",
   "execution_count": 3,
   "id": "74cb4db5",
   "metadata": {},
   "outputs": [],
   "source": [
    "# Read the IDS dataset\n",
    "df_ids = Seizures.read_xlsx()"
   ]
  },
  {
   "cell_type": "code",
   "execution_count": 15,
   "id": "517cefbe",
   "metadata": {},
   "outputs": [],
   "source": [
    "# Obtain all countries, sub-regions and regions in the IDS dataset\n",
    "cocaine_countries_list, cocaine_sub_region_dict, cocaine_region_dict = Seizures.get_ids_locations(df_ids, drug_list = ['Cocaine'])\n",
    "heroin_countries_list, heroin_sub_region_dict, heroin_region_dict = Seizures.get_ids_locations(df_ids, drug_list = ['Heroin'])\n",
    "all_countries_list, all_sub_region_dict, all_region_dict = Seizures.get_ids_locations(df_ids, drug_list = ['Cocaine', 'Heroin'])\n"
   ]
  },
  {
   "cell_type": "markdown",
   "id": "680e56fb",
   "metadata": {},
   "source": [
    "## 3. Population"
   ]
  },
  {
   "cell_type": "markdown",
   "id": "6c44a4d2",
   "metadata": {},
   "source": [
    "We now gather data on total population aged between 15 and 64 from UNDESA. To do this, we used a pre-written module that leverages the UNDESA API. \n",
    "\n",
    "*IMPORTANT*: takes long to run; do not re-run multiple times!"
   ]
  },
  {
   "cell_type": "code",
   "execution_count": null,
   "id": "bbf56611",
   "metadata": {},
   "outputs": [],
   "source": [
    "# Get the population data stored in a dict of pd.DataFrames\n",
    "#population_data = Population.get_population()\n",
    "\n",
    "# Write the population data to an Excel file, where each year represents a different spreadsheet\n",
    "#Population.write_to_xlsx(population_data)"
   ]
  },
  {
   "cell_type": "markdown",
   "id": "a3367625",
   "metadata": {},
   "source": [
    "## 4. Prevalence"
   ]
  },
  {
   "cell_type": "markdown",
   "id": "57ff3958",
   "metadata": {},
   "source": [
    "We now gather data on prevalence of drug for population aged between 15 and 64 from UNODC. To do this, we used a pre-written module that leverages data from the UNODC website. Missing data are imputed with sub-regional, regional, or global averages. "
   ]
  },
  {
   "cell_type": "code",
   "execution_count": 3,
   "id": "f9e1975e",
   "metadata": {},
   "outputs": [],
   "source": [
    "# Prepare data\n",
    "df_prev = Prevalence.prepare_data()\n",
    "\n",
    "# Store the prevalence data in output_df\n",
    "# The missing locations are imputed, ensuring that the final purity dataset contains all countries present in the IDS dataset\n",
    "output_df = Prevalence.get_prevalence_values(df_prev, countries_list = all_countries_list, sub_regions_dict = all_sub_region_dict, regions_dict = all_region_dict)\n",
    "\n",
    "# Write the prevalence data to an Excel file, where each year represents a different spreadsheet\n",
    "Prevalence.write_to_xlsx(output_df)"
   ]
  },
  {
   "cell_type": "markdown",
   "id": "936945d9",
   "metadata": {},
   "source": [
    "## 5. Purity"
   ]
  },
  {
   "cell_type": "markdown",
   "id": "c652c8eb",
   "metadata": {},
   "source": [
    "We now gather data on average drug purity at wholesale level from UNODC. To do this, we used a pre-written module that leverages data from the UNODC website. Missing data are imputed with sub-regional, regional, or global averages, as well as linear interpolation. "
   ]
  },
  {
   "cell_type": "code",
   "execution_count": 4,
   "id": "7b8be628",
   "metadata": {},
   "outputs": [],
   "source": [
    "# Prepare the purity data\n",
    "df_pure = Purity.prepare_data()\n",
    "\n",
    "# Store the prevalence data in output_df\n",
    "# The missing locations are imputed, ensuring that the final purity dataset contains all countries present in the IDS dataset\n",
    "output_df = Purity.get_purity_values(df_pure, locations = all_countries_list, sub_region_dict = all_sub_region_dict, region_dict = all_region_dict)\n",
    "\n",
    "# Write the purity data to an Excel file, where each year represents a different spreadsheet\n",
    "Purity.write_to_xlsx(output_df)"
   ]
  },
  {
   "cell_type": "markdown",
   "id": "308a545e",
   "metadata": {},
   "source": [
    "## 6. Seizures"
   ]
  },
  {
   "cell_type": "markdown",
   "id": "ead16682",
   "metadata": {},
   "source": [
    "### 6.1. Outline"
   ]
  },
  {
   "cell_type": "markdown",
   "id": "a39cd3c0",
   "metadata": {},
   "source": [
    "The seizures dataset (*IDS*) is by far the larget and most important data source of our project. The goal at this point is two-fold: computing total seized quantities at a national level and retrieving the network structure by extracting edges and weights. This will allow us to obtain all the ingredients we need for estimating imports and exports, thereby completing the network. \n",
    "\n",
    "An important note about purity levels is in order. Using guidelines from the UNODC, as well as methods from the literature, we built a conversion module (i.e., *Quantity_Conversion.py*) that automatically translates the seized quantities into *kilograms*. We then multiply this quanities by the average purity levels retrieved earlier. Therefore, all quantities resulting from this step of our processing represent **100% pure kilograms** of illicit substance."
   ]
  },
  {
   "cell_type": "markdown",
   "id": "3eda911c",
   "metadata": {},
   "source": [
    "### 6.2. National seizures"
   ]
  },
  {
   "cell_type": "markdown",
   "id": "12db17af",
   "metadata": {},
   "source": [
    "We first compute the total quanity of drug seized in each country every year, adjusted for purity and translated to kilograms. For details on the implementation, check https://github.com/MateiCosa/Global-Drug-Network-Analysis/tree/main."
   ]
  },
  {
   "cell_type": "code",
   "execution_count": 11,
   "id": "9552b6e6",
   "metadata": {},
   "outputs": [],
   "source": [
    "# Get the purity-adjusted national seizures\n",
    "output_df = Seizures.get_purity_adjusted_seizures(df_ids)\n",
    "\n",
    "# Write the seizures data to an Excel file, where each year represents a different spreadsheet\n",
    "Seizures.write_to_xlsx(output_df)"
   ]
  },
  {
   "cell_type": "markdown",
   "id": "b5cb4186",
   "metadata": {},
   "source": [
    "### 6.3. Network edges and weights"
   ]
  },
  {
   "cell_type": "markdown",
   "id": "0d65992c",
   "metadata": {},
   "source": [
    "Using the *IDS dataset* we extract the all the connections between countries, the total quantity seized across each connection (*weight*), the relative weight of each connection (*relative_weight*), and the status of producing country for each node (*producer*). \n",
    "\n",
    "Using the *get_drug_network_by_year* function the *Seizures* package, we create a **dictionary of networks**, where each year is mapped to a *nx.DiGraph* object representing the network of the given year. Each drug network corresponds to one type of drug, so the function must be called for each drug of interest for the analysis."
   ]
  },
  {
   "cell_type": "code",
   "execution_count": 8,
   "id": "2338b1f1",
   "metadata": {},
   "outputs": [],
   "source": [
    "cocaine_network = Seizures.get_drug_network_by_year('Cocaine', df_ids)\n",
    "heroin_network = Seizures.get_drug_network_by_year('Heroin', df_ids)"
   ]
  },
  {
   "cell_type": "markdown",
   "id": "9272189b",
   "metadata": {},
   "source": [
    "Here some brief summary statistics for the cocaine network:"
   ]
  },
  {
   "cell_type": "code",
   "execution_count": 9,
   "id": "4fdda5bf",
   "metadata": {},
   "outputs": [
    {
     "data": {
      "text/html": [
       "<div>\n",
       "<style scoped>\n",
       "    .dataframe tbody tr th:only-of-type {\n",
       "        vertical-align: middle;\n",
       "    }\n",
       "\n",
       "    .dataframe tbody tr th {\n",
       "        vertical-align: top;\n",
       "    }\n",
       "\n",
       "    .dataframe thead th {\n",
       "        text-align: right;\n",
       "    }\n",
       "</style>\n",
       "<table border=\"1\" class=\"dataframe\">\n",
       "  <thead>\n",
       "    <tr style=\"text-align: right;\">\n",
       "      <th></th>\n",
       "      <th>Year</th>\n",
       "      <th>Countries</th>\n",
       "      <th>Connections</th>\n",
       "    </tr>\n",
       "  </thead>\n",
       "  <tbody>\n",
       "    <tr>\n",
       "      <th>0</th>\n",
       "      <td>2006</td>\n",
       "      <td>99</td>\n",
       "      <td>163</td>\n",
       "    </tr>\n",
       "    <tr>\n",
       "      <th>1</th>\n",
       "      <td>2007</td>\n",
       "      <td>93</td>\n",
       "      <td>154</td>\n",
       "    </tr>\n",
       "    <tr>\n",
       "      <th>2</th>\n",
       "      <td>2008</td>\n",
       "      <td>92</td>\n",
       "      <td>145</td>\n",
       "    </tr>\n",
       "    <tr>\n",
       "      <th>3</th>\n",
       "      <td>2009</td>\n",
       "      <td>113</td>\n",
       "      <td>250</td>\n",
       "    </tr>\n",
       "    <tr>\n",
       "      <th>4</th>\n",
       "      <td>2010</td>\n",
       "      <td>117</td>\n",
       "      <td>256</td>\n",
       "    </tr>\n",
       "    <tr>\n",
       "      <th>5</th>\n",
       "      <td>2011</td>\n",
       "      <td>104</td>\n",
       "      <td>235</td>\n",
       "    </tr>\n",
       "    <tr>\n",
       "      <th>6</th>\n",
       "      <td>2012</td>\n",
       "      <td>114</td>\n",
       "      <td>346</td>\n",
       "    </tr>\n",
       "    <tr>\n",
       "      <th>7</th>\n",
       "      <td>2013</td>\n",
       "      <td>104</td>\n",
       "      <td>271</td>\n",
       "    </tr>\n",
       "    <tr>\n",
       "      <th>8</th>\n",
       "      <td>2014</td>\n",
       "      <td>106</td>\n",
       "      <td>241</td>\n",
       "    </tr>\n",
       "    <tr>\n",
       "      <th>9</th>\n",
       "      <td>2015</td>\n",
       "      <td>74</td>\n",
       "      <td>145</td>\n",
       "    </tr>\n",
       "    <tr>\n",
       "      <th>10</th>\n",
       "      <td>2016</td>\n",
       "      <td>89</td>\n",
       "      <td>161</td>\n",
       "    </tr>\n",
       "    <tr>\n",
       "      <th>11</th>\n",
       "      <td>2017</td>\n",
       "      <td>82</td>\n",
       "      <td>120</td>\n",
       "    </tr>\n",
       "  </tbody>\n",
       "</table>\n",
       "</div>"
      ],
      "text/plain": [
       "    Year  Countries  Connections\n",
       "0   2006         99          163\n",
       "1   2007         93          154\n",
       "2   2008         92          145\n",
       "3   2009        113          250\n",
       "4   2010        117          256\n",
       "5   2011        104          235\n",
       "6   2012        114          346\n",
       "7   2013        104          271\n",
       "8   2014        106          241\n",
       "9   2015         74          145\n",
       "10  2016         89          161\n",
       "11  2017         82          120"
      ]
     },
     "execution_count": 9,
     "metadata": {},
     "output_type": "execute_result"
    }
   ],
   "source": [
    "stats = pd.DataFrame(columns = ['Year', 'Countries', 'Connections'])\n",
    "for year in range(2006, 2018):\n",
    "    stats.loc[len(stats)] = {'Year': year, 'Countries': len(cocaine_network[year].nodes), 'Connections': len(cocaine_network[year].edges)}\n",
    "stats"
   ]
  },
  {
   "cell_type": "markdown",
   "id": "4a4701e7",
   "metadata": {},
   "source": [
    "## 7. Data aggregation"
   ]
  },
  {
   "cell_type": "markdown",
   "id": "cd9c53d2",
   "metadata": {},
   "source": [
    "### 7.1. Outline"
   ]
  },
  {
   "cell_type": "markdown",
   "id": "e8321b59",
   "metadata": {},
   "source": [
    "Now that we have collected and pre-processed data on population, prevalence, purities, and seizures, we need to combine everything together in order to construct the final network. There are several steps that need to pe performed, including estimating the number of users and the average consumption for a given drug, the national market, and, finally, the actual flows between any two countries present in the network."
   ]
  },
  {
   "cell_type": "markdown",
   "id": "9475677f",
   "metadata": {},
   "source": [
    "### 7.2. Estimating the number of drug users"
   ]
  },
  {
   "cell_type": "markdown",
   "id": "fecfaa54",
   "metadata": {},
   "source": [
    "To estimate the number of drug users in every country we simply need to multiply the total population aged between 15 and 64 years old with the prevalence of the drug of interest."
   ]
  },
  {
   "cell_type": "code",
   "execution_count": 159,
   "id": "385e710f",
   "metadata": {},
   "outputs": [],
   "source": [
    "cocaine_users = Aggregation.get_drug_users('Cocaine', cocaine_countries_list)\n",
    "heroin_users = Aggregation.get_drug_users('Heroin', heroin_countries_list)"
   ]
  },
  {
   "cell_type": "markdown",
   "id": "936e4a5d",
   "metadata": {},
   "source": [
    "Let's preview the output:"
   ]
  },
  {
   "cell_type": "code",
   "execution_count": 161,
   "id": "f5a46591",
   "metadata": {},
   "outputs": [
    {
     "data": {
      "text/plain": [
       "{'Afghanistan': 71346.05839285716,\n",
       " 'Albania': 15306.544500000004,\n",
       " 'Algeria': 4457.410400000001,\n",
       " 'Andorra': 442.9014857142857,\n",
       " 'Angola': 2081.1675,\n",
       " 'Anguilla': 48.733071428571435,\n",
       " 'Antigua and Barbuda': 316.2384642857143,\n",
       " 'Argentina': 271695.4056,\n",
       " 'Armenia': 11802.272785714287,\n",
       " 'Aruba': 388.41525000000007,\n",
       " 'Australia': 79821.05946428572,\n",
       " 'Austria': 42139.40091428572,\n",
       " 'Azerbaijan': 34520.06796428572,\n",
       " 'Bahamas': 1760.7825,\n",
       " 'Bahrain': 4174.737107142858,\n",
       " 'Bangladesh': 502971.8866071429,\n",
       " 'Barbados': 736.844,\n",
       " 'Belarus': 52027.39645714286,\n",
       " 'Belgium': 52552.95257142857,\n",
       " 'Benin': 882.9127000000001,\n",
       " 'Bermuda': 257.70439285714286,\n",
       " 'Bolivia, Plurinational State of': 61196.2624,\n",
       " 'Bosnia and Herzegovina': 21367.650857142857,\n",
       " 'Botswana': 6776.639357142858,\n",
       " 'Brazil': 1380283.75875,\n",
       " 'Brunei Darussalam': 1473.942535714286,\n",
       " 'Bulgaria': 40231.31451428572,\n",
       " 'Burkina Faso': 1484.8633,\n",
       " 'Burundi': 23141.101178571433,\n",
       " 'Cambodia': 48251.52932142858,\n",
       " 'Cameroon': 54091.70742857143,\n",
       " 'Canada': 176258.71380000003,\n",
       " 'Cape Verde': 58.091800000000006,\n",
       " 'Cayman Islands': 210.9182142857143,\n",
       " 'Chile': 120205.71775,\n",
       " 'China': 5504867.084892858,\n",
       " 'Colombia': 304059.4349,\n",
       " 'Congo': 428.28790000000004,\n",
       " 'Congo, the Democratic Republic of the': 171718.72714285715,\n",
       " 'Cook Islands': 54.40307142857144,\n",
       " 'Costa Rica': 9019.597249999999,\n",
       " 'Croatia': 22234.393028571427,\n",
       " 'Cuba': 58871.051250000004,\n",
       " 'Curaçao': 575.2099285714287,\n",
       " 'Cyprus': 4450.233,\n",
       " 'Czech Republic': 55421.21074285714,\n",
       " \"Côte d'Ivoire\": 2033.4794000000002,\n",
       " 'Denmark': 27243.5064,\n",
       " 'Dominica': 251.53971428571433,\n",
       " 'Dominican Republic': 43313.872500000005,\n",
       " 'Ecuador': 94275.7132,\n",
       " 'Egypt': 9937.7252,\n",
       " 'El Salvador': 17832.0975,\n",
       " 'Equatorial Guinea': 2985.0727500000003,\n",
       " 'Eritrea': 8926.573178571429,\n",
       " 'Estonia': 5296.205250000001,\n",
       " 'Eswatini': 122.29790000000001,\n",
       " 'Ethiopia': 8100.2645,\n",
       " 'Faroe Islands': 178.89428571428573,\n",
       " 'Fiji': 3273.8811428571435,\n",
       " 'Finland': 17536.27,\n",
       " 'France': 299235.4992,\n",
       " 'French Guiana': 1377.0624,\n",
       " 'French Polynesia': 1069.3070357142858,\n",
       " 'Gabon': 4945.9583571428575,\n",
       " 'Gambia': 175.0402,\n",
       " 'Georgia': 15028.771821428572,\n",
       " 'Germany': 376645.7485,\n",
       " 'Ghana': 2623.2327,\n",
       " 'Gibraltar': 112.74332142857145,\n",
       " 'Greece': 56232.539314285714,\n",
       " 'Grenada': 410.62371428571436,\n",
       " 'Guadeloupe': 1503.3050357142859,\n",
       " 'Guam': 618.8371071428572,\n",
       " 'Guatemala': 36650.93,\n",
       " 'Guernsey': 234.32721428571432,\n",
       " 'Guinea': 947.754,\n",
       " 'Guinea-Bissau': 150.56140000000002,\n",
       " 'Guyana': 2672.2652142857146,\n",
       " 'Haiti': 31337.008071428576,\n",
       " 'Honduras': 22015.9925,\n",
       " 'Hong Kong': 29573.06528571429,\n",
       " 'Hungary': 52287.345942857144,\n",
       " 'Iceland': 1533.2893714285715,\n",
       " 'India': 4236184.679142858,\n",
       " 'Indonesia': 880764.8428928573,\n",
       " 'Iran, Islamic Republic of': 291257.28900000005,\n",
       " 'Iraq': 91371.17346428572,\n",
       " 'Ireland': 21990.20057142857,\n",
       " 'Isle of Man': 306.34200000000004,\n",
       " 'Israel': 24668.1045,\n",
       " 'Italy': 290450.3070857143,\n",
       " 'Jamaica': 19188.801499999998,\n",
       " 'Japan': 482431.2181071429,\n",
       " 'Jordan': 20577.63342857143,\n",
       " 'Kazakhstan': 62349.08464285715,\n",
       " 'Kenya': 3985.1914,\n",
       " 'Kiribati': 338.80275000000006,\n",
       " \"Korea, Democratic People's Republic of\": 95355.16135714288,\n",
       " 'Korea, Republic of': 199598.44403571432,\n",
       " 'Kosovo under UNSCR 1244': 6729.775071428572,\n",
       " 'Kuwait': 10099.218857142858,\n",
       " 'Kyrgyzstan': 19235.801892857144,\n",
       " \"Lao People's Democratic Republic\": 19734.78792857143,\n",
       " 'Latvia': 11275.217485714285,\n",
       " 'Lebanon': 18101.842392857146,\n",
       " 'Lesotho': 230.854,\n",
       " 'Liberia': 10706.013,\n",
       " 'Libyan Arab Jamahiriya': 779.3655,\n",
       " 'Liechtenstein': 186.5046857142857,\n",
       " 'Lithuania': 16824.286285714286,\n",
       " 'Luxembourg': 2409.0829714285715,\n",
       " 'Madagascar': 59263.476428571434,\n",
       " 'Malawi': 1305.699,\n",
       " 'Malaysia': 99150.12996428572,\n",
       " 'Maldives': 1167.9534642857145,\n",
       " 'Mali': 1377.3644000000002,\n",
       " 'Malta': 2154.7001142857143,\n",
       " 'Martinique': 1947.6525000000001,\n",
       " 'Mauritania': 328.4072,\n",
       " 'Mauritius': 174.9572,\n",
       " 'Mexico': 522081.2805000001,\n",
       " 'Moldova, Republic of': 20947.785257142856,\n",
       " 'Monaco': 151.91691428571428,\n",
       " 'Mongolia': 10037.065821428572,\n",
       " 'Montenegro': 3195.5653714285713,\n",
       " 'Morocco': 3988.6543,\n",
       " 'Mozambique': 2166.7505,\n",
       " 'Myanmar': 181373.01300000004,\n",
       " 'Namibia': 6637.157357142858,\n",
       " 'Nepal': 87904.35321428573,\n",
       " 'Netherlands': 83104.85794285714,\n",
       " 'Netherlands Antilles': 133.45328571428573,\n",
       " 'New Zealand': 21136.7096,\n",
       " 'Nicaragua': 22723.3353,\n",
       " 'Niger': 40932.20442857144,\n",
       " 'Nigeria': 15312.239300000001,\n",
       " 'North Macedonia': 10844.61462857143,\n",
       " 'Norway': 23160.8784,\n",
       " 'Oman': 9771.105214285715,\n",
       " 'Pakistan': 574074.0482142858,\n",
       " 'Panama': 12455.73160714286,\n",
       " 'Papua New Guinea': 22755.06675,\n",
       " 'Paraguay': 36160.91895,\n",
       " 'Peru': 85041.32879999999,\n",
       " 'Philippines': 304025.2640357143,\n",
       " 'Poland': 54548.588,\n",
       " 'Portugal': 52974.217371428575,\n",
       " 'Puerto Rico': 14381.156571428573,\n",
       " 'Qatar': 4750.262357142858,\n",
       " 'Romania': 109236.40388571429,\n",
       " 'Russian Federation': 768546.2739428572,\n",
       " 'Rwanda': 29133.458035714288,\n",
       " 'Réunion': 3161.823428571429,\n",
       " 'Saint Kitts and Nevis': 182.30207142857145,\n",
       " 'Saint Pierre and Miquelon': 23.834250000000004,\n",
       " 'Saint Vincent and the Grenadines': 534.1125000000001,\n",
       " 'Samoa': 603.5801785714286,\n",
       " 'San Marino': 118.88775000000001,\n",
       " 'Sao Tome and Principe': 517.0085357142858,\n",
       " 'Saudi Arabia': 94966.30060714287,\n",
       " 'Senegal': 1204.4805000000001,\n",
       " 'Serbia': 39976.85622857143,\n",
       " 'Seychelles': 341.23275000000007,\n",
       " 'Sierra Leone': 615.2558,\n",
       " 'Singapore': 19742.75485714286,\n",
       " 'Slovakia': 23132.163,\n",
       " 'Slovenia': 10687.014171428571,\n",
       " 'South Africa': 6466.2041,\n",
       " 'Spain': 230647.89188571429,\n",
       " 'Sri Lanka': 76948.2845357143,\n",
       " 'St. Lucia': 631.4239285714286,\n",
       " 'Sudan': 3330.507,\n",
       " 'Suriname': 1929.6051428571432,\n",
       " 'Sweden': 45043.22365714286,\n",
       " 'Switzerland': 38403.26914285714,\n",
       " 'Syrian Arab Republic': 66092.94803571429,\n",
       " 'Taiwan, Province of China': 95215.1355,\n",
       " 'Tajikistan': 23749.853785714287,\n",
       " 'Tanzania, United Republic of': 4257.7019,\n",
       " 'Thailand': 273465.58114285715,\n",
       " 'Togo': 647.3024,\n",
       " 'Tonga': 343.85657142857144,\n",
       " 'Trinidad and Tobago': 7472.212500000001,\n",
       " 'Tunisia': 1436.4595000000002,\n",
       " 'Turkey': 345008.3094857143,\n",
       " 'Turkmenistan': 18197.471571428574,\n",
       " 'Turks and Caicos Islands': 102.14389285714287,\n",
       " 'Uganda': 2745.5681,\n",
       " 'Ukraine': 243913.69954285715,\n",
       " 'United Arab Emirates': 23136.08785714286,\n",
       " 'United Kingdom': 457731.13190952374,\n",
       " 'United States': 1570214.0649000003,\n",
       " 'Uruguay': 35407.251500000006,\n",
       " 'Uzbekistan': 98891.05146428573,\n",
       " 'Venezuela, Bolivarian Republic of': 187200.6875,\n",
       " 'Viet Nam': 325181.87389285717,\n",
       " 'Virgin Islands, British': 101.7909642857143,\n",
       " 'Yemen': 65003.41414285715,\n",
       " 'Zambia': 1215.0215,\n",
       " 'Zimbabwe': 1350.7006000000001}"
      ]
     },
     "execution_count": 161,
     "metadata": {},
     "output_type": "execute_result"
    }
   ],
   "source": [
    "cocaine_users[2006]"
   ]
  },
  {
   "cell_type": "markdown",
   "id": "584928e4",
   "metadata": {},
   "source": [
    "### 7.2. Estimated yearly consumption per user"
   ]
  },
  {
   "cell_type": "markdown",
   "id": "c3d3c35d",
   "metadata": {},
   "source": [
    "Since data about consumption per user is unavailable in most countries, a *supply-side* estimation approach is chosen. This requires retrieving estimates of the total quantities of drugs produced every year and dividing them by the total number of global users. There are, of course, several limitations of this method, such as not differentiating between \"light\" and \"heavy\" users or ignoring differences in consumption across countries."
   ]
  },
  {
   "cell_type": "code",
   "execution_count": null,
   "id": "11173aa4",
   "metadata": {},
   "outputs": [],
   "source": [
    "cocaine_consumption = Aggregation.get_yearly_consumption('Cocaine', cocaine_users)\n",
    "heroin_consumption = Aggregation.get_yearly_consumption('Heroin', cocaine_users)"
   ]
  },
  {
   "cell_type": "markdown",
   "id": "3e52932b",
   "metadata": {},
   "source": [
    "Let's preview the output:"
   ]
  },
  {
   "cell_type": "code",
   "execution_count": 435,
   "id": "e39096d6",
   "metadata": {},
   "outputs": [
    {
     "data": {
      "text/plain": [
       "{2006: 0.0053242324030680944,\n",
       " 2007: 0.009754496006354864,\n",
       " 2008: 0.007532680690225996,\n",
       " 2009: 0.003965445076188423,\n",
       " 2010: 0.006756212442493026,\n",
       " 2011: 0.0051178087328603095,\n",
       " 2012: 0.005337210318074906,\n",
       " 2013: 0.0017755006907820994,\n",
       " 2014: 0.0016918860089100132,\n",
       " 2015: 0.004830003310930263,\n",
       " 2016: 0.0053035891786425565,\n",
       " 2017: 0.006672715656815675}"
      ]
     },
     "execution_count": 435,
     "metadata": {},
     "output_type": "execute_result"
    }
   ],
   "source": [
    "cocaine_consumption"
   ]
  },
  {
   "cell_type": "markdown",
   "id": "b8321842",
   "metadata": {},
   "source": [
    "### 7.3. National market estimation"
   ]
  },
  {
   "cell_type": "markdown",
   "id": "92479783",
   "metadata": {},
   "source": [
    "To be able to estimate bilateral flows, we need to have an estimate of the national markets, meaning the sum between total estimated consumption and seizures. It is therefore necessary to merge data from the seizures dataset with data on population, prevalence, and average consumption per user."
   ]
  },
  {
   "cell_type": "markdown",
   "id": "21a4fc61",
   "metadata": {},
   "source": [
    "$$\n",
    "M_{d,t,i}=C_{d,t,i}^{adj}+S_{d,t,i}^{adj} \\\\\n",
    "C_{d,t,i}^{adj}=pr_{d,t,i} \\cdot Pop_{t,i} \\cdot c_{d,t} \\\\\n",
    "S_{d,t,i}^{adj}=S_{d,t,i} \\cdot pu_{d,t,i}\n",
    "$$"
   ]
  },
  {
   "cell_type": "code",
   "execution_count": 16,
   "id": "36202f7c",
   "metadata": {},
   "outputs": [],
   "source": [
    "import Aggregation\n",
    "\n",
    "# Only works for cocaine & heroin since we do not have average consumption data for other drugs\n",
    "df_markets = Aggregation.get_national_markets_df(all_countries_list, all_sub_region_dict, all_region_dict,\n",
    "                                                 df_ids, drug_list = ['Cocaine', 'Heroin'])\n",
    "\n",
    "# Write to file\n",
    "Aggregation.write_to_xlsx(df_markets)"
   ]
  },
  {
   "cell_type": "markdown",
   "id": "8f6d8d7b",
   "metadata": {},
   "source": [
    "### 7.4. Imports and exports estimation (TODO)"
   ]
  },
  {
   "cell_type": "markdown",
   "id": "9d27e870",
   "metadata": {},
   "source": [
    "### System"
   ]
  },
  {
   "cell_type": "markdown",
   "id": "cddfe84b",
   "metadata": {},
   "source": [
    "Let us consider the initial form of the system which represents the flows among non-producing countries. This can be simplified by writing everything in terms of imports, since imports and exports refer the same flows from opposite perspectives. Let us further denote the total market of a country as $M_i := C_{d,t,i}^{adj}+S_{d,t,i}^{adj}$."
   ]
  },
  {
   "cell_type": "markdown",
   "id": "4f53972a",
   "metadata": {},
   "source": [
    "$\n",
    "\\begin{cases} \n",
    "\\sum_{k=1}^{K} I_{d,t,i\\leftarrow k} = C_{d,t,i}^{adj}+S_{d,t,i}^{adj} + \\sum_{l=1}^{L} E_{d,t,i\\rightarrow l} \\\\ \n",
    "\\sum_{l=1}^{L} E_{d,t,i\\rightarrow l} = \\sum_{l=1}^{L} I_{d,t,l\\leftarrow i}\n",
    "\\end{cases}\n",
    "\\Rightarrow\n",
    "\\begin{cases} \n",
    "\\sum_{k=1}^{K} I_{d,t,i\\leftarrow k} = M_i + \\sum_{l=1}^{L} I_{d,t,l\\leftarrow i} \\\\ \n",
    "\\end{cases}\n",
    "$\n"
   ]
  },
  {
   "cell_type": "markdown",
   "id": "43753738",
   "metadata": {},
   "source": [
    "Another complication is the effect of internal production on the balancing of flows. Therefore we must write a generalized version of the system that accurately models the overall flow of drugs among producing and non-producing countries. In order to achieve this, let us introduce the internal production $p_i$ which is $0$ for non-producing countries and may take an arbitrary positive value for producing countries."
   ]
  },
  {
   "cell_type": "markdown",
   "id": "db30946f",
   "metadata": {},
   "source": [
    "$\n",
    "\\begin{cases} \n",
    "\\sum_{k=1}^{K} I_{d,t,i\\leftarrow k} = M_i - p_i + \\sum_{l=1}^{L} I_{d,t,l\\leftarrow i} \\\\ \n",
    "\\end{cases}\n",
    "$"
   ]
  },
  {
   "cell_type": "markdown",
   "id": "586cad56",
   "metadata": {},
   "source": [
    "Let us further note that given the relative weights $w_{il}$ of all inflows into country $l$, one may write $I_{d,t,l\\leftarrow i} = w_{il} \\cdot I_l$, where $I_l$ represents the total quantity imported by country $l$. This means that instead of solving for the values of all edges, we only need to solve for all nationa imports and national production values. "
   ]
  },
  {
   "cell_type": "markdown",
   "id": "3ddc6df0",
   "metadata": {},
   "source": [
    "$\n",
    "\\begin{cases}\n",
    "I_i = (M_i - p_i) + \\sum_{j=1}^{N} w_{ij} \\cdot I_j\n",
    "\\end{cases}\n",
    "$"
   ]
  },
  {
   "cell_type": "markdown",
   "id": "4e6e1dec",
   "metadata": {},
   "source": [
    "Since there are (possibly) **$2N$ unknowns and only $N$ equations**, we are left with **$N$ degrees of freedom** corresponding to the production values.\n",
    "Without accurate data on the values of national production, we would need to obtain production estimates. "
   ]
  },
  {
   "cell_type": "markdown",
   "id": "44e3cb75",
   "metadata": {},
   "source": [
    "We choose to simplify the problem by considering only the biggest producers of cocaine (Bolivia, Colombia, Ecuador, and Peru) and heroin (Afghanistan, Colombia, Laos, and Myanmar) and ignoring the internal production of all other countries. "
   ]
  },
  {
   "cell_type": "code",
   "execution_count": 5,
   "id": "144d8794",
   "metadata": {},
   "outputs": [],
   "source": [
    "# TODO"
   ]
  },
  {
   "cell_type": "markdown",
   "id": "fd93ac68",
   "metadata": {},
   "source": [
    "### 7.5. Additional features"
   ]
  },
  {
   "cell_type": "markdown",
   "id": "c96fc70f",
   "metadata": {},
   "source": [
    "We are now interated in including country-level features related to drug trafficking. These include:\n",
    "* Drug prices\n",
    "* GDP per capita\n",
    "* Geographical coordinates\n",
    "* Control of corruption\n",
    "* Government effectiveness\n",
    "* Stability and lack of terrorism\n",
    "* Regulatory quality\n",
    "* Rule of law\n",
    "\n",
    "By combining these node-level features with the data about seizures, consumption, and markets, as well as the overall strucuture of the network (edges), we can create comprehensive network datasets. For analysis purposes, we implement both yearly and aggregate levels, as well as different formats for simple integration with PyTorch Geometric (pyg) and R. To achieve this, we make use of the *Features* module and the fuction *get_network_data* in particular."
   ]
  },
  {
   "cell_type": "code",
   "execution_count": 20,
   "id": "eb4be062",
   "metadata": {},
   "outputs": [],
   "source": [
    "import importlib\n",
    "importlib.reload(Features)\n",
    "\n",
    "cocaine_network_datasets = Features.get_network_data('Cocaine', df_ids)\n",
    "heroin_network_datasets = Features.get_network_data('Heroin', df_ids)"
   ]
  },
  {
   "cell_type": "markdown",
   "id": "fff71ab1",
   "metadata": {},
   "source": [
    "Let us investigate the output:"
   ]
  },
  {
   "cell_type": "code",
   "execution_count": 29,
   "id": "af833d34",
   "metadata": {},
   "outputs": [
    {
     "name": "stdout",
     "output_type": "stream",
     "text": [
      "Constructed 13 pyg datasets for cocaine in nx.DiGraph format saved to file in .gml format;\n",
      "Constructed 26 R datasets (nodes and edges) for cocaine saved to file in .csv format;\n",
      "Constructed 13 pyg datasets for heroin in nx.DiGraph format saved to file in .gml format;\n",
      "Constructed 26 R datasets (nodes and edges) for heroin saved to file in .csv format.\n"
     ]
    }
   ],
   "source": [
    "print(f\"Constructed {len(cocaine_network_datasets['pyg'])} pyg datasets for cocaine in nx.DiGraph format saved to file in .gml format;\")\n",
    "print(f\"Constructed {len(cocaine_network_datasets['R'])} R datasets (nodes and edges) for cocaine saved to file in .csv format;\")\n",
    "print(f\"Constructed {len(heroin_network_datasets['pyg'])} pyg datasets for heroin in nx.DiGraph format saved to file in .gml format;\")\n",
    "print(f\"Constructed {len(heroin_network_datasets['R'])} R datasets (nodes and edges) for heroin saved to file in .csv format.\")"
   ]
  },
  {
   "cell_type": "markdown",
   "id": "2b51e072",
   "metadata": {},
   "source": [
    "## 8. Conclusion"
   ]
  },
  {
   "cell_type": "markdown",
   "id": "a4064748",
   "metadata": {},
   "source": [
    "We have undertaken a rigurous data gathering, cleaning, prcocessing, and aggregation process. In the end, we obtained **26 network datasets** corresponding to yearly and aggregate drug trafficking networks for both cocaine and heroin over a period of 12 years. Each dataset contains a different numer of nodes (countries) and edges (trafficking connections) derived from law enforcement seizures. This is by no means painting a complete picture of the global illicit trade of drugs, but it acts as a reasonable structure for gaining valuable insights.\n",
    "\n",
    "Each node has several features relating to quantities of drugs consumed and seized, socio-economic indicators and geographical coordinates. This features will be used within our models for link prediction and network distribution. More features can be introduced based on pre-existing theories and empirical evidence from the literature.\n",
    "\n",
    "Furthermore, each dataset has been stored in such a way as to enable data analysis and model-building with both PyTorch and PyTorch Geometric, as well as R. This will allow us to use both graph neural networks (GNN's), as well as statistical models for network analysis (e.g., exponential random graph models)."
   ]
  },
  {
   "cell_type": "markdown",
   "id": "c53ec0bc",
   "metadata": {},
   "source": [
    "## 9. Bibliography"
   ]
  },
  {
   "cell_type": "markdown",
   "id": "8b3915db",
   "metadata": {},
   "source": [
    "* Giulia Berlusconi, Alberto Aziani, Luca Giommoni, The determinants of heroin flows in Europe: A latent space approach, Social Networks, Volume 51, 2017, Pages 104-117, ISSN 0378-8733, https://doi.org/10.1016/j.socnet.2017.03.012.\n",
    "(https://www.sciencedirect.com/science/article/pii/S0378873316302192)\n",
    "* Alberto Aziani, Giulia Berlusconi & Luca Giommoni (2021) A Quantitative Application of Enterprise and Social Embeddedness Theories to the Transnational Trafficking of Cocaine in Europe, Deviant Behavior, 42:2, 245-267, https://doi.org/10.1080/01639625.2019.1666606. (https://www.tandfonline.com/doi/full/10.1080/01639625.2019.1666606)\n",
    "* Giommoni, Luca & Berlusconi, Giulia & Aziani, Alberto. (2021). Interdicting International Drug Trafficking: a Network Approach for Coordinated and Targeted Interventions. European Journal on Criminal Policy and Research. 28.  https://doi.org/10.1007/s10610-020-09473-0 (https://link.springer.com/article/10.1007/s10610-020-09473-0#citeas)\n",
    "* UNODC. (2010). Methodology–World drug report 2010. Vienna: UNODC https://www.unodc. org/documents/data-and-analysis/WDR2010/WDR2010methodology.pdf\n",
    "* UNODC. (2019b). World drug report 2019 methodology report. Vienna: United Nations Office on Drugs and Crime https://wdr.unodc.org/wdr2019/prelaunch/WDR-2019-Methodology-FINAL.pdf"
   ]
  }
 ],
 "metadata": {
  "kernelspec": {
   "display_name": "Python 3 (ipykernel)",
   "language": "python",
   "name": "python3"
  },
  "language_info": {
   "codemirror_mode": {
    "name": "ipython",
    "version": 3
   },
   "file_extension": ".py",
   "mimetype": "text/x-python",
   "name": "python",
   "nbconvert_exporter": "python",
   "pygments_lexer": "ipython3",
   "version": "3.11.5"
  }
 },
 "nbformat": 4,
 "nbformat_minor": 5
}
