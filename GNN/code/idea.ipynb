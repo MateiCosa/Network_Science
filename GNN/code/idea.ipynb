{
 "cells": [
  {
   "cell_type": "code",
   "execution_count": 2,
   "metadata": {},
   "outputs": [
    {
     "name": "stdout",
     "output_type": "stream",
     "text": [
      "Intel MKL WARNING: Support of Intel(R) Streaming SIMD Extensions 4.2 (Intel(R) SSE4.2) enabled only processors has been deprecated. Intel oneAPI Math Kernel Library 2025.0 will require Intel(R) Advanced Vector Extensions (Intel(R) AVX) instructions.\n",
      "Intel MKL WARNING: Support of Intel(R) Streaming SIMD Extensions 4.2 (Intel(R) SSE4.2) enabled only processors has been deprecated. Intel oneAPI Math Kernel Library 2025.0 will require Intel(R) Advanced Vector Extensions (Intel(R) AVX) instructions.\n"
     ]
    }
   ],
   "source": [
    "import torch\n",
    "import torch.nn as nn\n",
    "import torch.nn.functional as F\n",
    "from torch import Tensor\n",
    "\n",
    "import torch_geometric.nn as pyg_nn\n",
    "import torch_geometric.utils as pyg_utils\n",
    "\n",
    "import time\n",
    "from datetime import datetime\n",
    "\n",
    "import networkx as nx\n",
    "import numpy as np\n",
    "import torch\n",
    "import torch.optim as optim\n",
    "\n",
    "from torch_geometric.datasets import TUDataset\n",
    "from torch_geometric.datasets import Planetoid\n",
    "from torch_geometric.datasets import KarateClub\n",
    "from torch_geometric.data import DataLoader\n",
    "\n",
    "import torch_geometric.transforms as T\n",
    "from torch_geometric.utils import train_test_split_edges\n",
    "from torch_geometric.utils.convert import from_networkx"
   ]
  },
  {
   "cell_type": "code",
   "execution_count": 56,
   "metadata": {},
   "outputs": [],
   "source": [
    "class GAE_Encoder(torch.nn.Module):\n",
    "    def __init__(self, in_channels, out_channels):\n",
    "        super(GAE_Encoder, self).__init__()\n",
    "        self.conv1 = pyg_nn.GCNConv(in_channels, 2 * out_channels, cached=True)\n",
    "        self.conv2 = pyg_nn.GCNConv(2 * out_channels, out_channels, cached=True)\n",
    "\n",
    "    def forward(self, x, edge_index):\n",
    "        x = F.relu(self.conv1(x, edge_index))\n",
    "        return self.conv2(x, edge_index)\n",
    "    \n",
    "class VGAE_Encoder(torch.nn.Module):\n",
    "    def __init__(self, in_channels, out_channels):\n",
    "        super(VGAE_Encoder, self).__init__()\n",
    "        self.conv1 = pyg_nn.GCNConv(in_channels, 2 * out_channels, cached=True) # cached only for transductive learning\n",
    "        self.conv_mu = pyg_nn.GCNConv(2 * out_channels, out_channels, cached=True)\n",
    "        self.conv_logstd = pyg_nn.GCNConv(2 * out_channels, out_channels, cached=True)\n",
    "\n",
    "    def forward(self, x, edge_index):\n",
    "        x = self.conv1(x, edge_index).relu()\n",
    "        return self.conv_mu(x, edge_index), self.conv_logstd(x, edge_index)\n",
    "\n",
    "def train(epoch):\n",
    "    model.train()\n",
    "    optimizer.zero_grad()\n",
    "    z = model.encode(x, train_pos_edge_index)\n",
    "    loss = model.recon_loss(z, train_pos_edge_index)\n",
    "    loss.backward()\n",
    "    optimizer.step()\n",
    "    \n",
    "    #writer.add_scalar(\"loss\", loss.item(), epoch)\n",
    "\n",
    "def test(pos_edge_index, neg_edge_index):\n",
    "    model.eval()\n",
    "    with torch.no_grad():\n",
    "        z = model.encode(x, train_pos_edge_index)\n",
    "    return model.test(z, pos_edge_index, neg_edge_index)\n"
   ]
  },
  {
   "cell_type": "code",
   "execution_count": 58,
   "metadata": {},
   "outputs": [
    {
     "name": "stdout",
     "output_type": "stream",
     "text": [
      "CUDA availability: False\n",
      "Epoch: 010, AUC: 0.5306, AP: 0.5525\n",
      "Epoch: 020, AUC: 0.7143, AP: 0.6742\n"
     ]
    },
    {
     "name": "stderr",
     "output_type": "stream",
     "text": [
      "/Users/mateicosa/Bocconi/BIDSA/Network_Science/.conda/lib/python3.11/site-packages/torch_geometric/deprecation.py:22: UserWarning: 'train_test_split_edges' is deprecated, use 'transforms.RandomLinkSplit' instead\n",
      "  warnings.warn(out)\n"
     ]
    },
    {
     "name": "stdout",
     "output_type": "stream",
     "text": [
      "Epoch: 030, AUC: 0.8776, AP: 0.9123\n",
      "Epoch: 040, AUC: 0.9592, AP: 0.9683\n",
      "Epoch: 050, AUC: 0.8367, AP: 0.8274\n",
      "Epoch: 060, AUC: 0.8367, AP: 0.8274\n",
      "Epoch: 070, AUC: 0.8980, AP: 0.8736\n",
      "Epoch: 080, AUC: 0.8980, AP: 0.8736\n",
      "Epoch: 090, AUC: 0.8980, AP: 0.8736\n",
      "Epoch: 100, AUC: 0.8980, AP: 0.8736\n",
      "Epoch: 110, AUC: 0.8980, AP: 0.8736\n",
      "Epoch: 120, AUC: 0.8980, AP: 0.8736\n",
      "Epoch: 130, AUC: 0.8980, AP: 0.8736\n",
      "Epoch: 140, AUC: 0.8980, AP: 0.8736\n",
      "Epoch: 150, AUC: 0.9184, AP: 0.9094\n",
      "Epoch: 160, AUC: 0.9184, AP: 0.9094\n",
      "Epoch: 170, AUC: 0.9184, AP: 0.9094\n",
      "Epoch: 180, AUC: 0.9184, AP: 0.9094\n",
      "Epoch: 190, AUC: 0.9184, AP: 0.9094\n",
      "Epoch: 200, AUC: 0.9184, AP: 0.9094\n"
     ]
    }
   ],
   "source": [
    "dataset = KarateClub()\n",
    "data = dataset[0]\n",
    "\n",
    "channels = 16\n",
    "dev = torch.device('cuda' if torch.cuda.is_available() else 'cpu')\n",
    "print('CUDA availability:', torch.cuda.is_available())\n",
    "\n",
    "# encoder: written by us; decoder: default (inner product)\n",
    "model = pyg_nn.VGAE(VGAE_Encoder(dataset.num_features, channels)).to(dev)\n",
    "labels = data.y\n",
    "data.train_mask = data.val_mask = data.test_mask = data.y = None\n",
    "data = train_test_split_edges(data)\n",
    "x, train_pos_edge_index = data.x.to(dev), data.train_pos_edge_index.to(dev)\n",
    "optimizer = torch.optim.Adam(model.parameters(), lr=0.01)\n",
    "\n",
    "for epoch in range(1, 201):\n",
    "    train(epoch)\n",
    "    auc, ap = test(data.test_pos_edge_index, data.test_neg_edge_index)\n",
    "    #writer.add_scalar(\"AUC\", auc, epoch)\n",
    "    #writer.add_scalar(\"AP\", ap, epoch)\n",
    "    if epoch % 10 == 0:\n",
    "        print('Epoch: {:03d}, AUC: {:.4f}, AP: {:.4f}'.format(epoch, auc, ap))"
   ]
  },
  {
   "cell_type": "code",
   "execution_count": 62,
   "metadata": {},
   "outputs": [
    {
     "name": "stdout",
     "output_type": "stream",
     "text": [
      "CUDA availability: False\n",
      "Epoch: 010, AUC: 0.5000, AP: 0.5000\n",
      "Epoch: 020, AUC: 0.5000, AP: 0.5000\n"
     ]
    },
    {
     "name": "stderr",
     "output_type": "stream",
     "text": [
      "/Users/mateicosa/Bocconi/BIDSA/Network_Science/.conda/lib/python3.11/site-packages/torch_geometric/deprecation.py:22: UserWarning: 'train_test_split_edges' is deprecated, use 'transforms.RandomLinkSplit' instead\n",
      "  warnings.warn(out)\n"
     ]
    },
    {
     "name": "stdout",
     "output_type": "stream",
     "text": [
      "Epoch: 030, AUC: 0.5000, AP: 0.5000\n",
      "Epoch: 040, AUC: 0.5000, AP: 0.5000\n",
      "Epoch: 050, AUC: 0.5000, AP: 0.5000\n",
      "Epoch: 060, AUC: 0.5000, AP: 0.5000\n",
      "Epoch: 070, AUC: 0.5000, AP: 0.5000\n",
      "Epoch: 080, AUC: 0.5000, AP: 0.5000\n",
      "Epoch: 090, AUC: 0.5000, AP: 0.5000\n",
      "Epoch: 100, AUC: 0.5000, AP: 0.5000\n",
      "Epoch: 110, AUC: 0.5000, AP: 0.5000\n",
      "Epoch: 120, AUC: 0.5000, AP: 0.5000\n",
      "Epoch: 130, AUC: 0.5000, AP: 0.5000\n",
      "Epoch: 140, AUC: 0.5000, AP: 0.5000\n",
      "Epoch: 150, AUC: 0.5000, AP: 0.5000\n",
      "Epoch: 160, AUC: 0.5000, AP: 0.5000\n",
      "Epoch: 170, AUC: 0.5000, AP: 0.5000\n",
      "Epoch: 180, AUC: 0.5000, AP: 0.5000\n",
      "Epoch: 190, AUC: 0.5000, AP: 0.5000\n",
      "Epoch: 200, AUC: 0.5000, AP: 0.5000\n"
     ]
    }
   ],
   "source": [
    "data = from_networkx(G)\n",
    "\n",
    "channels = 16\n",
    "dev = torch.device('cuda' if torch.cuda.is_available() else 'cpu')\n",
    "print('CUDA availability:', torch.cuda.is_available())\n",
    "\n",
    "# encoder: written by us; decoder: default (inner product)\n",
    "model = pyg_nn.GAE(GAE_Encoder(data.num_features, channels)).to(dev)\n",
    "labels = data.y\n",
    "data.train_mask = data.val_mask = data.test_mask = data.y = None\n",
    "data = train_test_split_edges(data)\n",
    "x, train_pos_edge_index = data.x.to(dev), data.train_pos_edge_index.to(dev)\n",
    "optimizer = torch.optim.Adam(model.parameters(), lr=0.01)\n",
    "\n",
    "for epoch in range(1, 201):\n",
    "    train(epoch)\n",
    "    auc, ap = test(data.test_pos_edge_index, data.test_neg_edge_index)\n",
    "    #writer.add_scalar(\"AUC\", auc, epoch)\n",
    "    #writer.add_scalar(\"AP\", ap, epoch)\n",
    "    if epoch % 10 == 0:\n",
    "        print('Epoch: {:03d}, AUC: {:.4f}, AP: {:.4f}'.format(epoch, auc, ap))"
   ]
  },
  {
   "cell_type": "code",
   "execution_count": 63,
   "metadata": {},
   "outputs": [
    {
     "data": {
      "text/plain": [
       "tensor([[ 3.3939e+01,  6.7710e+01,  9.2422e+04,  ...,  1.0000e+00,\n",
       "          0.0000e+00,  0.0000e+00],\n",
       "        [ 4.1153e+01,  2.0168e+01,  5.0272e+04,  ...,  0.0000e+00,\n",
       "          1.0000e+00,  0.0000e+00],\n",
       "        [ 2.8034e+01,  1.6596e+00,  5.6311e+04,  ...,  0.0000e+00,\n",
       "          0.0000e+00,  0.0000e+00],\n",
       "        ...,\n",
       "        [ 1.5553e+01,  4.8516e+01,  9.2422e+04,  ...,  1.0000e+00,\n",
       "          0.0000e+00,  0.0000e+00],\n",
       "        [-1.3134e+01,  2.7849e+01,  3.6337e+04,  ...,  0.0000e+00,\n",
       "          0.0000e+00,  0.0000e+00],\n",
       "        [-1.9015e+01,  2.9155e+01,  3.6337e+04,  ...,  0.0000e+00,\n",
       "          0.0000e+00,  0.0000e+00]])"
      ]
     },
     "execution_count": 63,
     "metadata": {},
     "output_type": "execute_result"
    }
   ],
   "source": [
    "data.x"
   ]
  }
 ],
 "metadata": {
  "kernelspec": {
   "display_name": "Python 3",
   "language": "python",
   "name": "python3"
  },
  "language_info": {
   "codemirror_mode": {
    "name": "ipython",
    "version": 3
   },
   "file_extension": ".py",
   "mimetype": "text/x-python",
   "name": "python",
   "nbconvert_exporter": "python",
   "pygments_lexer": "ipython3",
   "version": "3.11.5"
  }
 },
 "nbformat": 4,
 "nbformat_minor": 2
}
